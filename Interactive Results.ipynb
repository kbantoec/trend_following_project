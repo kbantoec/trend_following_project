{
 "cells": [
  {
   "cell_type": "code",
   "execution_count": 1,
   "metadata": {},
   "outputs": [],
   "source": [
    "import calculate\n",
    "import report\n",
    "import viz\n",
    "\n",
    "import ipywidgets\n",
    "from tabulate import tabulate"
   ]
  },
  {
   "cell_type": "code",
   "execution_count": 2,
   "metadata": {},
   "outputs": [
    {
     "data": {
      "application/vnd.jupyter.widget-view+json": {
       "model_id": "8d349f1a3d134b0f9140d8f264eeb51b",
       "version_major": 2,
       "version_minor": 0
      },
      "text/plain": [
       "interactive(children=(Dropdown(description='name', options=('Antonacci', 'TSMOM'), value='Antonacci'), Dropdow…"
      ]
     },
     "metadata": {},
     "output_type": "display_data"
    }
   ],
   "source": [
    "@ipywidgets.interact(\n",
    "    name=['Antonacci', 'TSMOM'], \n",
    "    price_set=['ETF', 'Futures'], \n",
    "    fee_rate_bps=10, get_top=2, \n",
    "    target_vol=40, periods=6, \n",
    "    vol_weight=False)\n",
    "def stats_plot_interactive(*args, **kwargs):\n",
    "    stats = calculate.stats_from_parameters(*args, **kwargs)\n",
    "    viz.stats_plot(stats)\n",
    "    return stats['summary']"
   ]
  },
  {
   "cell_type": "code",
   "execution_count": 3,
   "metadata": {},
   "outputs": [
    {
     "name": "stdout",
     "output_type": "stream",
     "text": [
      "╒═════════════════════════════╤═════════════════╤═══════════════╤══════════╤═════════════════╤════════════╕\n",
      "│ Strategy Name               │   Annual Return │   Annual Vol. │   Sharpe │   Max. Drawdown │   # Assets │\n",
      "╞═════════════════════════════╪═════════════════╪═══════════════╪══════════╪═════════════════╪════════════╡\n",
      "│ ETF EW.                     │            3.77 │          9.01 │     0.14 │           33.49 │          7 │\n",
      "├─────────────────────────────┼─────────────────┼───────────────┼──────────┼─────────────────┼────────────┤\n",
      "│ Antonacci ETF               │            8.96 │         12.08 │     0.54 │           20.47 │          2 │\n",
      "├─────────────────────────────┼─────────────────┼───────────────┼──────────┼─────────────────┼────────────┤\n",
      "│ Antonacci ETF Inv. Vol.     │            8.57 │         11.63 │     0.52 │           20.57 │          2 │\n",
      "├─────────────────────────────┼─────────────────┼───────────────┼──────────┼─────────────────┼────────────┤\n",
      "│ Futures EW.                 │            5.7  │          6.79 │     0.64 │           19.81 │         47 │\n",
      "├─────────────────────────────┼─────────────────┼───────────────┼──────────┼─────────────────┼────────────┤\n",
      "│ Antonacci Futures           │            9.06 │         12.04 │     0.64 │           21.62 │         10 │\n",
      "├─────────────────────────────┼─────────────────┼───────────────┼──────────┼─────────────────┼────────────┤\n",
      "│ Antonacci Futures Inv. Vol. │            9.61 │         10.97 │     0.75 │           17.47 │         10 │\n",
      "├─────────────────────────────┼─────────────────┼───────────────┼──────────┼─────────────────┼────────────┤\n",
      "│ TSMOM Futures Low Vol.      │            3.06 │          3.62 │     0.47 │            5.5  │         47 │\n",
      "├─────────────────────────────┼─────────────────┼───────────────┼──────────┼─────────────────┼────────────┤\n",
      "│ TSMOM Futures High Vol.     │            5.4  │          8.97 │     0.45 │           14.07 │         47 │\n",
      "╘═════════════════════════════╧═════════════════╧═══════════════╧══════════╧═════════════════╧════════════╛\n"
     ]
    }
   ],
   "source": [
    "tbl = report.result_table('fancy_grid')"
   ]
  }
 ],
 "metadata": {
  "kernelspec": {
   "display_name": "Python 3",
   "language": "python",
   "name": "python3"
  },
  "language_info": {
   "codemirror_mode": {
    "name": "ipython",
    "version": 3
   },
   "file_extension": ".py",
   "mimetype": "text/x-python",
   "name": "python",
   "nbconvert_exporter": "python",
   "pygments_lexer": "ipython3",
   "version": "3.6.8"
  },
  "toc": {
   "base_numbering": 1,
   "nav_menu": {},
   "number_sections": false,
   "sideBar": false,
   "skip_h1_title": false,
   "title_cell": "Table of Contents",
   "title_sidebar": "Contents",
   "toc_cell": false,
   "toc_position": {},
   "toc_section_display": false,
   "toc_window_display": false
  }
 },
 "nbformat": 4,
 "nbformat_minor": 4
}
